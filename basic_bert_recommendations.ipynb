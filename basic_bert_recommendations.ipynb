{
 "cells": [
  {
   "cell_type": "code",
   "execution_count": 22,
   "metadata": {},
   "outputs": [],
   "source": [
    "import pandas as pd\n",
    "import os\n",
    "import numpy as np\n",
    "import matplotlib.pyplot as plt\n",
    "# Load the regular expression library\n",
    "import re\n",
    "import seaborn as sns\n",
    "# Import the wordcloud library\n",
    "from wordcloud import WordCloud"
   ]
  },
  {
   "cell_type": "code",
   "execution_count": 2,
   "metadata": {},
   "outputs": [],
   "source": [
    "import tensorflow_hub as hub\n",
    "import tensorflow as tf\n",
    "import bert\n",
    "FullTokenizer = bert.bert_tokenization.FullTokenizer\n",
    "from tensorflow.keras.models import Model\n",
    "import math"
   ]
  },
  {
   "cell_type": "code",
   "execution_count": 3,
   "metadata": {},
   "outputs": [],
   "source": [
    "max_seq_length = 128  # Your choice here.\n",
    "input_word_ids = tf.keras.layers.Input(shape=(max_seq_length,), dtype=tf.int32,\n",
    "                                       name=\"input_word_ids\")\n",
    "input_mask = tf.keras.layers.Input(shape=(max_seq_length,), dtype=tf.int32,\n",
    "                                   name=\"input_mask\")\n",
    "segment_ids = tf.keras.layers.Input(shape=(max_seq_length,), dtype=tf.int32,\n",
    "                                    name=\"segment_ids\")\n",
    "bert_layer = hub.KerasLayer(\"https://tfhub.dev/tensorflow/bert_en_uncased_L-12_H-768_A-12/1\",\n",
    "                            trainable=True)\n",
    "pooled_output, sequence_output = bert_layer([input_word_ids, input_mask, segment_ids])"
   ]
  },
  {
   "cell_type": "code",
   "execution_count": 4,
   "metadata": {},
   "outputs": [],
   "source": [
    "model = Model(inputs=[input_word_ids, input_mask, segment_ids], outputs=[pooled_output, sequence_output])"
   ]
  },
  {
   "cell_type": "code",
   "execution_count": 38,
   "metadata": {},
   "outputs": [],
   "source": [
    "def prepare_input_seq(input_seq, tokenizer, max_len):\n",
    "    tokens0 = tokenizer.tokenize(input_seq)\n",
    "    for j,t in enumerate(tokens0):\n",
    "        if t in [\".\",\"?\",\"!\"]:\n",
    "            tokens0[j] = t+\" [SEP]\"\n",
    "    tokens = []\n",
    "    for t in tokens0:\n",
    "        tokens+=t.split()\n",
    "    if tokens[-1]!='[SEP]':\n",
    "        tokens = ['[CLS]'] + tokens + ['[SEP]']\n",
    "    else:\n",
    "        tokens = ['[CLS]'] + tokens\n",
    "    \n",
    "    if len(tokens)>max_len:\n",
    "        tokens = tokens[:max_len]\n",
    "    \n",
    "    return tokens"
   ]
  },
  {
   "cell_type": "code",
   "execution_count": 6,
   "metadata": {},
   "outputs": [],
   "source": [
    "test_input = 'My cat ran away. How do I find it?'"
   ]
  },
  {
   "cell_type": "code",
   "execution_count": 9,
   "metadata": {},
   "outputs": [],
   "source": [
    "vocab_file = bert_layer.resolved_object.vocab_file.asset_path.numpy()\n",
    "do_lower_case = bert_layer.resolved_object.do_lower_case.numpy()\n",
    "tokenizer = FullTokenizer(vocab_file, do_lower_case)"
   ]
  },
  {
   "cell_type": "code",
   "execution_count": 10,
   "metadata": {},
   "outputs": [],
   "source": [
    "tokens = prepare_input_seq(test_input, tokenizer)"
   ]
  },
  {
   "cell_type": "code",
   "execution_count": 11,
   "metadata": {},
   "outputs": [
    {
     "data": {
      "text/plain": [
       "['[CLS]',\n",
       " 'my',\n",
       " 'cat',\n",
       " 'ran',\n",
       " 'away',\n",
       " '.',\n",
       " '[SEP]',\n",
       " 'how',\n",
       " 'do',\n",
       " 'i',\n",
       " 'find',\n",
       " 'it',\n",
       " '?',\n",
       " '[SEP]']"
      ]
     },
     "execution_count": 11,
     "metadata": {},
     "output_type": "execute_result"
    }
   ],
   "source": [
    "tokens"
   ]
  },
  {
   "cell_type": "code",
   "execution_count": 12,
   "metadata": {},
   "outputs": [],
   "source": [
    "def get_masks(tokens, max_seq_length):\n",
    "    \"\"\"Mask for padding\"\"\"\n",
    "    if len(tokens)>max_seq_length:\n",
    "        raise IndexError(\"Token length more than max seq length!\")\n",
    "    return [1]*len(tokens) + [0] * (max_seq_length - len(tokens))\n",
    "\n",
    "\n",
    "def get_segments(tokens, max_seq_length):\n",
    "    \"\"\"Segments: 0 for the first sequence, 1 for the second\"\"\"\n",
    "    if len(tokens)>max_seq_length:\n",
    "        raise IndexError(\"Token length more than max seq length!\")\n",
    "    segments = []\n",
    "    current_segment_id = 0\n",
    "    for token in tokens:\n",
    "        segments.append(current_segment_id)\n",
    "        if token == \"[SEP]\":\n",
    "            current_segment_id = 1\n",
    "    return segments + [0] * (max_seq_length - len(tokens))\n",
    "\n",
    "\n",
    "def get_ids(tokens, tokenizer, max_seq_length):\n",
    "    \"\"\"Token ids from Tokenizer vocab\"\"\"\n",
    "    token_ids = tokenizer.convert_tokens_to_ids(tokens)\n",
    "    input_ids = token_ids + [0] * (max_seq_length-len(token_ids))\n",
    "    return input_ids"
   ]
  },
  {
   "cell_type": "code",
   "execution_count": 14,
   "metadata": {},
   "outputs": [],
   "source": [
    "input_ids = get_ids(tokens, tokenizer, max_seq_length)\n",
    "input_masks = get_masks(tokens, max_seq_length)\n",
    "input_segments = get_segments(tokens, max_seq_length)"
   ]
  },
  {
   "cell_type": "code",
   "execution_count": 15,
   "metadata": {},
   "outputs": [],
   "source": [
    "pool_embs, all_embs = model.predict([[input_ids],[input_masks],[input_segments]])"
   ]
  },
  {
   "cell_type": "code",
   "execution_count": 21,
   "metadata": {},
   "outputs": [
    {
     "data": {
      "text/plain": [
       "(1, 768)"
      ]
     },
     "execution_count": 21,
     "metadata": {},
     "output_type": "execute_result"
    }
   ],
   "source": [
    "pool_embs.shape"
   ]
  },
  {
   "cell_type": "code",
   "execution_count": 18,
   "metadata": {},
   "outputs": [
    {
     "data": {
      "text/plain": [
       "(1, 128, 768)"
      ]
     },
     "execution_count": 18,
     "metadata": {},
     "output_type": "execute_result"
    }
   ],
   "source": [
    "all_embs.shape"
   ]
  },
  {
   "cell_type": "code",
   "execution_count": null,
   "metadata": {},
   "outputs": [],
   "source": []
  },
  {
   "cell_type": "code",
   "execution_count": 23,
   "metadata": {},
   "outputs": [
    {
     "data": {
      "text/html": [
       "<div>\n",
       "<style scoped>\n",
       "    .dataframe tbody tr th:only-of-type {\n",
       "        vertical-align: middle;\n",
       "    }\n",
       "\n",
       "    .dataframe tbody tr th {\n",
       "        vertical-align: top;\n",
       "    }\n",
       "\n",
       "    .dataframe thead th {\n",
       "        text-align: right;\n",
       "    }\n",
       "</style>\n",
       "<table border=\"1\" class=\"dataframe\">\n",
       "  <thead>\n",
       "    <tr style=\"text-align: right;\">\n",
       "      <th></th>\n",
       "      <th>Unnamed: 0</th>\n",
       "      <th>post_id</th>\n",
       "      <th>title</th>\n",
       "      <th>url</th>\n",
       "      <th>text</th>\n",
       "      <th>score</th>\n",
       "      <th>num_comments</th>\n",
       "      <th>created</th>\n",
       "      <th>alltext</th>\n",
       "      <th>Topic</th>\n",
       "      <th>TopicName</th>\n",
       "    </tr>\n",
       "  </thead>\n",
       "  <tbody>\n",
       "    <tr>\n",
       "      <th>0</th>\n",
       "      <td>0</td>\n",
       "      <td>bhaof3</td>\n",
       "      <td>(Update) Neighbors child has disabilities and ...</td>\n",
       "      <td>https://www.reddit.com/r/legaladvice/comments/...</td>\n",
       "      <td>Original post: https://www.reddit.com/r/legala...</td>\n",
       "      <td>55763</td>\n",
       "      <td>4</td>\n",
       "      <td>4/25/2019 12:29</td>\n",
       "      <td>(Update) Neighbors child has disabilities and ...</td>\n",
       "      <td>1</td>\n",
       "      <td>Banking</td>\n",
       "    </tr>\n",
       "    <tr>\n",
       "      <th>1</th>\n",
       "      <td>1</td>\n",
       "      <td>6dh9vh</td>\n",
       "      <td>[Super Awesome Update] Sat down on my friend's...</td>\n",
       "      <td>https://www.reddit.com/r/legaladvice/comments/...</td>\n",
       "      <td>I never thought this would turn out the way it...</td>\n",
       "      <td>54473</td>\n",
       "      <td>2</td>\n",
       "      <td>5/26/2017 10:27</td>\n",
       "      <td>[Super Awesome Update] Sat down on my friend's...</td>\n",
       "      <td>2</td>\n",
       "      <td>Domestic</td>\n",
       "    </tr>\n",
       "    <tr>\n",
       "      <th>2</th>\n",
       "      <td>2</td>\n",
       "      <td>8brtfc</td>\n",
       "      <td>I told my math teacher about my mother, and sh...</td>\n",
       "      <td>https://www.reddit.com/r/legaladvice/comments/...</td>\n",
       "      <td>I got my 13 year old brother after school yest...</td>\n",
       "      <td>40091</td>\n",
       "      <td>5</td>\n",
       "      <td>4/12/2018 13:09</td>\n",
       "      <td>I told my math teacher about my mother, and sh...</td>\n",
       "      <td>2</td>\n",
       "      <td>Domestic</td>\n",
       "    </tr>\n",
       "    <tr>\n",
       "      <th>3</th>\n",
       "      <td>3</td>\n",
       "      <td>bieir5</td>\n",
       "      <td>[UPDATE] [PA] I followed and reported a drunk ...</td>\n",
       "      <td>https://www.reddit.com/r/legaladvice/comments/...</td>\n",
       "      <td>This is an update to my [original post](https:...</td>\n",
       "      <td>38858</td>\n",
       "      <td>3</td>\n",
       "      <td>4/28/2019 14:48</td>\n",
       "      <td>[UPDATE] [PA] I followed and reported a drunk ...</td>\n",
       "      <td>1</td>\n",
       "      <td>Banking</td>\n",
       "    </tr>\n",
       "    <tr>\n",
       "      <th>4</th>\n",
       "      <td>4</td>\n",
       "      <td>beuf9y</td>\n",
       "      <td>UPDATE: My father and step mother died, leavin...</td>\n",
       "      <td>https://www.reddit.com/r/legaladvice/comments/...</td>\n",
       "      <td>[Here's my original post](https://www.reddit.c...</td>\n",
       "      <td>35337</td>\n",
       "      <td>4</td>\n",
       "      <td>4/18/2019 23:06</td>\n",
       "      <td>UPDATE: My father and step mother died, leavin...</td>\n",
       "      <td>6</td>\n",
       "      <td>Shopping</td>\n",
       "    </tr>\n",
       "  </tbody>\n",
       "</table>\n",
       "</div>"
      ],
      "text/plain": [
       "   Unnamed: 0 post_id                                              title  \\\n",
       "0           0  bhaof3  (Update) Neighbors child has disabilities and ...   \n",
       "1           1  6dh9vh  [Super Awesome Update] Sat down on my friend's...   \n",
       "2           2  8brtfc  I told my math teacher about my mother, and sh...   \n",
       "3           3  bieir5  [UPDATE] [PA] I followed and reported a drunk ...   \n",
       "4           4  beuf9y  UPDATE: My father and step mother died, leavin...   \n",
       "\n",
       "                                                 url  \\\n",
       "0  https://www.reddit.com/r/legaladvice/comments/...   \n",
       "1  https://www.reddit.com/r/legaladvice/comments/...   \n",
       "2  https://www.reddit.com/r/legaladvice/comments/...   \n",
       "3  https://www.reddit.com/r/legaladvice/comments/...   \n",
       "4  https://www.reddit.com/r/legaladvice/comments/...   \n",
       "\n",
       "                                                text  score  num_comments  \\\n",
       "0  Original post: https://www.reddit.com/r/legala...  55763             4   \n",
       "1  I never thought this would turn out the way it...  54473             2   \n",
       "2  I got my 13 year old brother after school yest...  40091             5   \n",
       "3  This is an update to my [original post](https:...  38858             3   \n",
       "4  [Here's my original post](https://www.reddit.c...  35337             4   \n",
       "\n",
       "           created                                            alltext  Topic  \\\n",
       "0  4/25/2019 12:29  (Update) Neighbors child has disabilities and ...      1   \n",
       "1  5/26/2017 10:27  [Super Awesome Update] Sat down on my friend's...      2   \n",
       "2  4/12/2018 13:09  I told my math teacher about my mother, and sh...      2   \n",
       "3  4/28/2019 14:48  [UPDATE] [PA] I followed and reported a drunk ...      1   \n",
       "4  4/18/2019 23:06  UPDATE: My father and step mother died, leavin...      6   \n",
       "\n",
       "  TopicName  \n",
       "0   Banking  \n",
       "1  Domestic  \n",
       "2  Domestic  \n",
       "3   Banking  \n",
       "4  Shopping  "
      ]
     },
     "execution_count": 23,
     "metadata": {},
     "output_type": "execute_result"
    }
   ],
   "source": [
    "post_data_topics = pd.read_csv('./data/post_data_topics.csv')\n",
    "post_data_topics.head()"
   ]
  },
  {
   "cell_type": "code",
   "execution_count": 24,
   "metadata": {},
   "outputs": [
    {
     "data": {
      "text/plain": [
       "'(Update) Neighbors child has disabilities and won\\'t stop climbing the fence, entering my house and \"freeing\" my dogs Original post: https://www.reddit.com/r/legaladvice/comments/b93dx3/neighbors_child_has_disabilities_and_wont_stop/\\n\\nI\\'m sad about this update for the kid, I took the majority of the given advice and called the police non-emergency number and asked for an officer to come out because I had questions about an issue I\\'m having and briefly explained it.\\n\\nOfficer shows up, I invite him in and explain the whole situation. He isn\\'t really sure what to do about it right now so he asked for a supervisor come to his position. Supervisor shows up and I go over the whole thing again, we go upstairs to my computer where I have all the videos clipped and saved (9 times of her entering the backyard and 4 of her entering the house through the garage). \\n\\nWe watched each one and he gets on his cellphone and goes back to his car. A few minutes later he comes back with 3 flash drives and asks me to copy the videos over to the drive and had me fill out a piece of paper stating what I put on the drive and then signed it, I repeated it all 3 times.\\n\\nAbout 45 minutes later after we have been talking and he\\'s been on and off his cellphone the entire time, 2 CPS workers show up and review the videos again and take a complete statement from me going back to the first time it happened. This took about two hours because they wanted it to be precise and as accurate as I remember it and left out anything I wasn\\'t 100% sure on.\\n\\nThe officers and CPS workers head next door to talk to the parents, parents apparently shut the door in their faces and said they didn\\'t want to talk but because of my statement and the videos of her climbing over, getting stuck, having to be carried back over the times I\\'m at work or gone and just entering the house they had probable cause to enter the home anyways.\\n\\nAfter they were inside their house for about 10-15 minutes another cop car shows up followed by another a few minutes later. I\\'m in my garage so I don\\'t know exactly what happened inside but after more officers showed up the father was put in the back of a car and the daughter was put into the CPS workers van and they left. The father was driven away about 10 minutes after that, then about an hour later the mother is also put into the back of a car and they drive away.\\n\\nI talked to the initial officer that showed up and asked for a supervisor and he tells me they found drugs (pills not in prescription bottles/not their prescriptions) and that the home was just not being taken care of inside and definitely not a safe environment for a child. Said they found drugs not secured and in areas the child had access to them.\\n\\nI haven\\'t seen them since the day after the post, I feel bad for the kid being in that situation and me being a neighbor not even knowing and my not wanting to call the cops (I didn\\'t think it was anything like they found, I just figured it is really tough raising a kid and add on top of that severe mental disabilities and it\\'s even tougher). I should have called them earlier once the CPS reports I was doing over the phone didn\\'t ever do anything.'"
      ]
     },
     "execution_count": 24,
     "metadata": {},
     "output_type": "execute_result"
    }
   ],
   "source": [
    "post_data_topics.alltext.values.tolist()[0]"
   ]
  },
  {
   "cell_type": "code",
   "execution_count": 28,
   "metadata": {},
   "outputs": [],
   "source": [
    "tokens = prepare_input_seq(post_data_topics.alltext.values.tolist()[0], tokenizer)"
   ]
  },
  {
   "cell_type": "code",
   "execution_count": 30,
   "metadata": {},
   "outputs": [
    {
     "data": {
      "text/plain": [
       "733"
      ]
     },
     "execution_count": 30,
     "metadata": {},
     "output_type": "execute_result"
    }
   ],
   "source": [
    "len(tokens)"
   ]
  },
  {
   "cell_type": "code",
   "execution_count": 31,
   "metadata": {},
   "outputs": [
    {
     "ename": "IndexError",
     "evalue": "Token length more than max seq length!",
     "output_type": "error",
     "traceback": [
      "\u001b[1;31m---------------------------------------------------------------------------\u001b[0m",
      "\u001b[1;31mIndexError\u001b[0m                                Traceback (most recent call last)",
      "\u001b[1;32m<ipython-input-31-95f1d313d3d5>\u001b[0m in \u001b[0;36m<module>\u001b[1;34m\u001b[0m\n\u001b[0;32m      1\u001b[0m \u001b[0minput_ids\u001b[0m \u001b[1;33m=\u001b[0m \u001b[0mget_ids\u001b[0m\u001b[1;33m(\u001b[0m\u001b[0mtokens\u001b[0m\u001b[1;33m,\u001b[0m \u001b[0mtokenizer\u001b[0m\u001b[1;33m,\u001b[0m \u001b[0mmax_seq_length\u001b[0m\u001b[1;33m)\u001b[0m\u001b[1;33m\u001b[0m\u001b[1;33m\u001b[0m\u001b[0m\n\u001b[1;32m----> 2\u001b[1;33m \u001b[0minput_masks\u001b[0m \u001b[1;33m=\u001b[0m \u001b[0mget_masks\u001b[0m\u001b[1;33m(\u001b[0m\u001b[0mtokens\u001b[0m\u001b[1;33m,\u001b[0m \u001b[0mmax_seq_length\u001b[0m\u001b[1;33m)\u001b[0m\u001b[1;33m\u001b[0m\u001b[1;33m\u001b[0m\u001b[0m\n\u001b[0m\u001b[0;32m      3\u001b[0m \u001b[0minput_segments\u001b[0m \u001b[1;33m=\u001b[0m \u001b[0mget_segments\u001b[0m\u001b[1;33m(\u001b[0m\u001b[0mtokens\u001b[0m\u001b[1;33m,\u001b[0m \u001b[0mmax_seq_length\u001b[0m\u001b[1;33m)\u001b[0m\u001b[1;33m\u001b[0m\u001b[1;33m\u001b[0m\u001b[0m\n",
      "\u001b[1;32m<ipython-input-12-d31cfb8180a7>\u001b[0m in \u001b[0;36mget_masks\u001b[1;34m(tokens, max_seq_length)\u001b[0m\n\u001b[0;32m      2\u001b[0m     \u001b[1;34m\"\"\"Mask for padding\"\"\"\u001b[0m\u001b[1;33m\u001b[0m\u001b[1;33m\u001b[0m\u001b[0m\n\u001b[0;32m      3\u001b[0m     \u001b[1;32mif\u001b[0m \u001b[0mlen\u001b[0m\u001b[1;33m(\u001b[0m\u001b[0mtokens\u001b[0m\u001b[1;33m)\u001b[0m\u001b[1;33m>\u001b[0m\u001b[0mmax_seq_length\u001b[0m\u001b[1;33m:\u001b[0m\u001b[1;33m\u001b[0m\u001b[1;33m\u001b[0m\u001b[0m\n\u001b[1;32m----> 4\u001b[1;33m         \u001b[1;32mraise\u001b[0m \u001b[0mIndexError\u001b[0m\u001b[1;33m(\u001b[0m\u001b[1;34m\"Token length more than max seq length!\"\u001b[0m\u001b[1;33m)\u001b[0m\u001b[1;33m\u001b[0m\u001b[1;33m\u001b[0m\u001b[0m\n\u001b[0m\u001b[0;32m      5\u001b[0m     \u001b[1;32mreturn\u001b[0m \u001b[1;33m[\u001b[0m\u001b[1;36m1\u001b[0m\u001b[1;33m]\u001b[0m\u001b[1;33m*\u001b[0m\u001b[0mlen\u001b[0m\u001b[1;33m(\u001b[0m\u001b[0mtokens\u001b[0m\u001b[1;33m)\u001b[0m \u001b[1;33m+\u001b[0m \u001b[1;33m[\u001b[0m\u001b[1;36m0\u001b[0m\u001b[1;33m]\u001b[0m \u001b[1;33m*\u001b[0m \u001b[1;33m(\u001b[0m\u001b[0mmax_seq_length\u001b[0m \u001b[1;33m-\u001b[0m \u001b[0mlen\u001b[0m\u001b[1;33m(\u001b[0m\u001b[0mtokens\u001b[0m\u001b[1;33m)\u001b[0m\u001b[1;33m)\u001b[0m\u001b[1;33m\u001b[0m\u001b[1;33m\u001b[0m\u001b[0m\n\u001b[0;32m      6\u001b[0m \u001b[1;33m\u001b[0m\u001b[0m\n",
      "\u001b[1;31mIndexError\u001b[0m: Token length more than max seq length!"
     ]
    }
   ],
   "source": [
    "input_ids = get_ids(tokens, tokenizer, max_seq_length)\n",
    "input_masks = get_masks(tokens, max_seq_length)\n",
    "input_segments = get_segments(tokens, max_seq_length)"
   ]
  },
  {
   "cell_type": "code",
   "execution_count": 34,
   "metadata": {},
   "outputs": [
    {
     "data": {
      "text/plain": [
       "['[CLS]',\n",
       " '(',\n",
       " 'update',\n",
       " ')',\n",
       " 'neighbors',\n",
       " 'child',\n",
       " 'has',\n",
       " 'disabilities',\n",
       " 'and',\n",
       " 'won',\n",
       " \"'\",\n",
       " 't',\n",
       " 'stop',\n",
       " 'climbing',\n",
       " 'the',\n",
       " 'fence',\n",
       " ',',\n",
       " 'entering',\n",
       " 'my',\n",
       " 'house',\n",
       " 'and',\n",
       " '\"',\n",
       " 'freeing',\n",
       " '\"',\n",
       " 'my',\n",
       " 'dogs',\n",
       " 'original',\n",
       " 'post',\n",
       " ':',\n",
       " 'https',\n",
       " ':',\n",
       " '/',\n",
       " '/',\n",
       " 'www',\n",
       " '.',\n",
       " '[SEP]',\n",
       " 'red',\n",
       " '##dit',\n",
       " '.',\n",
       " '[SEP]',\n",
       " 'com',\n",
       " '/',\n",
       " 'r',\n",
       " '/',\n",
       " 'legal',\n",
       " '##ad',\n",
       " '##vic',\n",
       " '##e',\n",
       " '/',\n",
       " 'comments',\n",
       " '/',\n",
       " 'b',\n",
       " '##9',\n",
       " '##3d',\n",
       " '##x',\n",
       " '##3',\n",
       " '/',\n",
       " 'neighbors',\n",
       " '_',\n",
       " 'child',\n",
       " '_',\n",
       " 'has',\n",
       " '_',\n",
       " 'disabilities',\n",
       " '_',\n",
       " 'and',\n",
       " '_',\n",
       " 'won',\n",
       " '##t',\n",
       " '_',\n",
       " 'stop',\n",
       " '/',\n",
       " 'i',\n",
       " \"'\",\n",
       " 'm',\n",
       " 'sad',\n",
       " 'about',\n",
       " 'this',\n",
       " 'update',\n",
       " 'for',\n",
       " 'the',\n",
       " 'kid',\n",
       " ',',\n",
       " 'i',\n",
       " 'took',\n",
       " 'the',\n",
       " 'majority',\n",
       " 'of',\n",
       " 'the',\n",
       " 'given',\n",
       " 'advice',\n",
       " 'and',\n",
       " 'called',\n",
       " 'the',\n",
       " 'police',\n",
       " 'non',\n",
       " '-',\n",
       " 'emergency',\n",
       " 'number',\n",
       " 'and',\n",
       " 'asked',\n",
       " 'for',\n",
       " 'an',\n",
       " 'officer',\n",
       " 'to',\n",
       " 'come',\n",
       " 'out',\n",
       " 'because',\n",
       " 'i',\n",
       " 'had',\n",
       " 'questions',\n",
       " 'about',\n",
       " 'an',\n",
       " 'issue',\n",
       " 'i',\n",
       " \"'\",\n",
       " 'm',\n",
       " 'having',\n",
       " 'and',\n",
       " 'briefly',\n",
       " 'explained',\n",
       " 'it',\n",
       " '.',\n",
       " '[SEP]',\n",
       " 'officer',\n",
       " 'shows',\n",
       " 'up',\n",
       " ',']"
      ]
     },
     "execution_count": 34,
     "metadata": {},
     "output_type": "execute_result"
    }
   ],
   "source": [
    "tokens[:max_seq_length]"
   ]
  },
  {
   "cell_type": "code",
   "execution_count": 36,
   "metadata": {},
   "outputs": [
    {
     "data": {
      "text/plain": [
       "128"
      ]
     },
     "execution_count": 36,
     "metadata": {},
     "output_type": "execute_result"
    }
   ],
   "source": [
    "len(tokenizer.convert_tokens_to_ids(tokens[:max_seq_length]))"
   ]
  },
  {
   "cell_type": "code",
   "execution_count": 37,
   "metadata": {},
   "outputs": [
    {
     "data": {
      "text/plain": [
       "128"
      ]
     },
     "execution_count": 37,
     "metadata": {},
     "output_type": "execute_result"
    }
   ],
   "source": [
    "len(input_masks)"
   ]
  },
  {
   "cell_type": "markdown",
   "metadata": {},
   "source": [
    "## Sentence level embeddings, so use title only."
   ]
  },
  {
   "cell_type": "code",
   "execution_count": 44,
   "metadata": {},
   "outputs": [
    {
     "data": {
      "text/plain": [
       "75"
      ]
     },
     "execution_count": 44,
     "metadata": {},
     "output_type": "execute_result"
    }
   ],
   "source": [
    "tokens = prepare_input_seq(post_data_topics.title.values.tolist()[5], tokenizer, max_seq_length)\n",
    "len(tokens)"
   ]
  },
  {
   "cell_type": "code",
   "execution_count": 45,
   "metadata": {},
   "outputs": [],
   "source": [
    "input_ids = get_ids(tokens, tokenizer, max_seq_length)\n",
    "input_masks = get_masks(tokens, max_seq_length)\n",
    "input_segments = get_segments(tokens, max_seq_length)"
   ]
  },
  {
   "cell_type": "code",
   "execution_count": 46,
   "metadata": {},
   "outputs": [],
   "source": [
    "pool_embs, all_embs = model.predict([[input_ids],[input_masks],[input_segments]])"
   ]
  },
  {
   "cell_type": "code",
   "execution_count": 47,
   "metadata": {},
   "outputs": [],
   "source": [
    "title_list = post_data_topics.title.values.tolist()"
   ]
  },
  {
   "cell_type": "code",
   "execution_count": 51,
   "metadata": {},
   "outputs": [
    {
     "ename": "AttributeError",
     "evalue": "'numpy.ndarray' object has no attribute 'append'",
     "output_type": "error",
     "traceback": [
      "\u001b[1;31m---------------------------------------------------------------------------\u001b[0m",
      "\u001b[1;31mAttributeError\u001b[0m                            Traceback (most recent call last)",
      "\u001b[1;32m<ipython-input-51-a1b006a5c26f>\u001b[0m in \u001b[0;36m<module>\u001b[1;34m\u001b[0m\n\u001b[1;32m----> 1\u001b[1;33m \u001b[0mpool_embs\u001b[0m\u001b[1;33m.\u001b[0m\u001b[0mappend\u001b[0m\u001b[1;33m(\u001b[0m\u001b[0mpool_embs\u001b[0m\u001b[1;33m)\u001b[0m\u001b[1;33m\u001b[0m\u001b[1;33m\u001b[0m\u001b[0m\n\u001b[0m",
      "\u001b[1;31mAttributeError\u001b[0m: 'numpy.ndarray' object has no attribute 'append'"
     ]
    }
   ],
   "source": [
    "emb_mat = np.zeros([len(id2sent),768])"
   ]
  },
  {
   "cell_type": "code",
   "execution_count": 52,
   "metadata": {},
   "outputs": [
    {
     "name": "stdout",
     "output_type": "stream",
     "text": [
      "0 (Update) Neighbors child has disabilities and won't stop climbing the fence, entering my house and \"freeing\" my dogs\n",
      "1 [Super Awesome Update] Sat down on my friend's MacBook and broke it, offered to pay her the money for it but now she wants more because \"she was upgrading anyway\" so it's this or she will sue me in small claims court.\n",
      "2 I told my math teacher about my mother, and she got arrested.\n",
      "3 [UPDATE] [PA] I followed and reported a drunk driver, then I got a ticket for driving past curfew\n",
      "4 UPDATE: My father and step mother died, leaving me (19m) and my step sister (8f). My step sisters father, won't allow me visitations... I GOT CUSTODY!!!\n"
     ]
    }
   ],
   "source": [
    "for i,j in enumerate(title_list[0:5]):\n",
    "    print(i,j)"
   ]
  },
  {
   "cell_type": "code",
   "execution_count": 55,
   "metadata": {},
   "outputs": [],
   "source": [
    "def embed_titles(titles, model, max_seq_length):\n",
    "    emb_mat = np.zeros([len(titles),768])\n",
    "    for i, title in enumerate(titles):\n",
    "        tokens=prepare_input_seq(title, tokenizer, max_seq_length)\n",
    "        input_ids = get_ids(tokens, tokenizer, max_seq_length)\n",
    "        input_masks = get_masks(tokens, max_seq_length)\n",
    "        input_segments = get_segments(tokens, max_seq_length)\n",
    "        pool_embs, all_embs = model.predict([[input_ids],[input_masks],[input_segments]])\n",
    "        emb_mat[i,:] = pool_embs\n",
    "    return emb_mat"
   ]
  },
  {
   "cell_type": "code",
   "execution_count": 58,
   "metadata": {},
   "outputs": [
    {
     "data": {
      "text/plain": [
       "(5, 768)"
      ]
     },
     "execution_count": 58,
     "metadata": {},
     "output_type": "execute_result"
    }
   ],
   "source": [
    "embed_titles(title_list[0:5], model, max_seq_length).shape"
   ]
  },
  {
   "cell_type": "code",
   "execution_count": 60,
   "metadata": {},
   "outputs": [],
   "source": [
    "titles_embedded = embed_titles(title_list, model, max_seq_length)"
   ]
  },
  {
   "cell_type": "code",
   "execution_count": 62,
   "metadata": {},
   "outputs": [],
   "source": [
    "np.save('./data/bert_embeddings_title.npy', titles_embedded)"
   ]
  },
  {
   "cell_type": "code",
   "execution_count": 63,
   "metadata": {},
   "outputs": [
    {
     "data": {
      "text/plain": [
       "(17133, 768)"
      ]
     },
     "execution_count": 63,
     "metadata": {},
     "output_type": "execute_result"
    }
   ],
   "source": [
    "titles_embedded.shape"
   ]
  },
  {
   "cell_type": "code",
   "execution_count": 64,
   "metadata": {},
   "outputs": [],
   "source": [
    "titles_embedded_df=pd.DataFrame(titles_embedded,index=post_data_topics.index)"
   ]
  },
  {
   "cell_type": "code",
   "execution_count": 65,
   "metadata": {},
   "outputs": [],
   "source": [
    "# save\n",
    "titles_embedded_df.to_csv('./data/bert_embeddings.csv', index = True)"
   ]
  },
  {
   "cell_type": "code",
   "execution_count": 66,
   "metadata": {},
   "outputs": [],
   "source": [
    "# save models\n",
    "model.save('./models/bert_128.h5')"
   ]
  },
  {
   "cell_type": "code",
   "execution_count": 67,
   "metadata": {},
   "outputs": [],
   "source": [
    "import pickle\n",
    "pickle.dump(tokenizer, open('./models/tokenizer_bert_128.pkl', 'wb'))"
   ]
  },
  {
   "cell_type": "markdown",
   "metadata": {},
   "source": [
    "## Cosine similarity"
   ]
  },
  {
   "cell_type": "code",
   "execution_count": 68,
   "metadata": {},
   "outputs": [],
   "source": [
    "def embed_input(title, model, max_seq_length):\n",
    "    tokens=prepare_input_seq(title, tokenizer, max_seq_length)\n",
    "    input_ids = get_ids(tokens, tokenizer, max_seq_length)\n",
    "    input_masks = get_masks(tokens, max_seq_length)\n",
    "    input_segments = get_segments(tokens, max_seq_length)\n",
    "    pool_embs, all_embs = model.predict([[input_ids],[input_masks],[input_segments]])\n",
    "    return pool_embs"
   ]
  },
  {
   "cell_type": "code",
   "execution_count": 69,
   "metadata": {},
   "outputs": [],
   "source": [
    "test_title = 'Cat ran away. How do I find it?'"
   ]
  },
  {
   "cell_type": "code",
   "execution_count": 73,
   "metadata": {},
   "outputs": [
    {
     "data": {
      "text/plain": [
       "(1, 768)"
      ]
     },
     "execution_count": 73,
     "metadata": {},
     "output_type": "execute_result"
    }
   ],
   "source": [
    "test_embedding=embed_input(test_title, model, max_seq_length)\n",
    "test_embedding.shape"
   ]
  },
  {
   "cell_type": "code",
   "execution_count": null,
   "metadata": {},
   "outputs": [],
   "source": []
  }
 ],
 "metadata": {
  "kernelspec": {
   "display_name": "Python 3",
   "language": "python",
   "name": "python3"
  },
  "language_info": {
   "codemirror_mode": {
    "name": "ipython",
    "version": 3
   },
   "file_extension": ".py",
   "mimetype": "text/x-python",
   "name": "python",
   "nbconvert_exporter": "python",
   "pygments_lexer": "ipython3",
   "version": "3.7.6"
  }
 },
 "nbformat": 4,
 "nbformat_minor": 2
}
