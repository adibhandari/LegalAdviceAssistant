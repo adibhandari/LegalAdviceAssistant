{
 "cells": [
  {
   "cell_type": "code",
   "execution_count": 1,
   "metadata": {},
   "outputs": [],
   "source": [
    "import pandas as pd\n",
    "import requests\n",
    "import json\n",
    "import csv\n",
    "import time\n",
    "import datetime"
   ]
  },
  {
   "cell_type": "code",
   "execution_count": 2,
   "metadata": {},
   "outputs": [],
   "source": [
    "# Epoch value for Jan 1 2020\n",
    "jan12020='1577836800'\n",
    "jan12019='1546318800'\n",
    "jan12010='1262304000'"
   ]
  },
  {
   "cell_type": "code",
   "execution_count": 3,
   "metadata": {},
   "outputs": [],
   "source": [
    "# search for posts between Jan 1 2010 and Jan 1 2020 loop over based on score (min score 100)\n",
    "def getPushshiftData(last_score, after, before, sub):\n",
    "    # search before and after given dates in legaladvice, return 500 results sorted by score and limit num comments to > 100\n",
    "    #url = 'https://api.pushshift.io/reddit/search/submission/?after='+str(after)+'&before='+str(before)+'&subreddit='+str(sub)+'&size=500&sort_type=score&sort=desc&num_comments=>100&stickied=false'+'&score=<'+str(last_score)+'&score=>100'\n",
    "    # remove num_comments restriction\n",
    "    url = 'https://api.pushshift.io/reddit/search/submission/?after='+str(after)+'&before='+str(before)+'&subreddit='+str(sub)+'&size=500&sort_type=score&sort=desc&stickied=false'+'&score=<'+str(last_score)+'&score=>100'\n",
    "    print(url)\n",
    "    r = requests.get(url)\n",
    "    data = json.loads(r.text)\n",
    "    return data['data']"
   ]
  },
  {
   "cell_type": "code",
   "execution_count": 7,
   "metadata": {},
   "outputs": [],
   "source": [
    "# Function to extract the key data points\n",
    "def collectSubData(subm):\n",
    "    subData = list() #list to store data points\n",
    "    title = subm['title']\n",
    "    url = subm['url']\n",
    "    try:\n",
    "        text = subm['selftext']\n",
    "    except KeyError:\n",
    "        text = \"None\" \n",
    "    sub_id = subm['id']\n",
    "    score = subm['score']\n",
    "    numComms = subm['num_comments']\n",
    "    created = datetime.datetime.fromtimestamp(subm['created_utc'])\n",
    "    \n",
    "    subData.append((sub_id,title,url,text,score,numComms,created))\n",
    "    subStats[sub_id] = subData"
   ]
  },
  {
   "cell_type": "code",
   "execution_count": 8,
   "metadata": {},
   "outputs": [],
   "source": [
    "# arbitrary high number (actual max is 30k)\n",
    "last_score = 100000\n",
    "# subStats dict to store the data\n",
    "subStats={}\n",
    "subCount=0\n",
    "sub='legaladvice'"
   ]
  },
  {
   "cell_type": "code",
   "execution_count": 9,
   "metadata": {},
   "outputs": [
    {
     "name": "stdout",
     "output_type": "stream",
     "text": [
      "https://api.pushshift.io/reddit/search/submission/?after=1262304000&before=1577836800&subreddit=legaladvice&size=500&sort_type=score&sort=desc&stickied=false&score=<100000&score=>100\n",
      "500\n",
      "5053\n",
      "https://api.pushshift.io/reddit/search/submission/?after=1262304000&before=1577836800&subreddit=legaladvice&size=500&sort_type=score&sort=desc&stickied=false&score=<5053&score=>100\n",
      "500\n",
      "2351\n",
      "https://api.pushshift.io/reddit/search/submission/?after=1262304000&before=1577836800&subreddit=legaladvice&size=500&sort_type=score&sort=desc&stickied=false&score=<2351&score=>100\n",
      "500\n",
      "1391\n",
      "https://api.pushshift.io/reddit/search/submission/?after=1262304000&before=1577836800&subreddit=legaladvice&size=500&sort_type=score&sort=desc&stickied=false&score=<1391&score=>100\n",
      "500\n",
      "975\n",
      "https://api.pushshift.io/reddit/search/submission/?after=1262304000&before=1577836800&subreddit=legaladvice&size=500&sort_type=score&sort=desc&stickied=false&score=<975&score=>100\n",
      "500\n",
      "778\n",
      "https://api.pushshift.io/reddit/search/submission/?after=1262304000&before=1577836800&subreddit=legaladvice&size=500&sort_type=score&sort=desc&stickied=false&score=<778&score=>100\n",
      "500\n",
      "655\n",
      "https://api.pushshift.io/reddit/search/submission/?after=1262304000&before=1577836800&subreddit=legaladvice&size=500&sort_type=score&sort=desc&stickied=false&score=<655&score=>100\n",
      "500\n",
      "560\n",
      "https://api.pushshift.io/reddit/search/submission/?after=1262304000&before=1577836800&subreddit=legaladvice&size=500&sort_type=score&sort=desc&stickied=false&score=<560&score=>100\n",
      "500\n",
      "489\n",
      "https://api.pushshift.io/reddit/search/submission/?after=1262304000&before=1577836800&subreddit=legaladvice&size=500&sort_type=score&sort=desc&stickied=false&score=<489&score=>100\n",
      "500\n",
      "436\n",
      "https://api.pushshift.io/reddit/search/submission/?after=1262304000&before=1577836800&subreddit=legaladvice&size=500&sort_type=score&sort=desc&stickied=false&score=<436&score=>100\n",
      "500\n",
      "391\n",
      "https://api.pushshift.io/reddit/search/submission/?after=1262304000&before=1577836800&subreddit=legaladvice&size=500&sort_type=score&sort=desc&stickied=false&score=<391&score=>100\n",
      "500\n",
      "357\n",
      "https://api.pushshift.io/reddit/search/submission/?after=1262304000&before=1577836800&subreddit=legaladvice&size=500&sort_type=score&sort=desc&stickied=false&score=<357&score=>100\n",
      "500\n",
      "328\n",
      "https://api.pushshift.io/reddit/search/submission/?after=1262304000&before=1577836800&subreddit=legaladvice&size=500&sort_type=score&sort=desc&stickied=false&score=<328&score=>100\n",
      "500\n",
      "303\n",
      "https://api.pushshift.io/reddit/search/submission/?after=1262304000&before=1577836800&subreddit=legaladvice&size=500&sort_type=score&sort=desc&stickied=false&score=<303&score=>100\n",
      "500\n",
      "280\n",
      "https://api.pushshift.io/reddit/search/submission/?after=1262304000&before=1577836800&subreddit=legaladvice&size=500&sort_type=score&sort=desc&stickied=false&score=<280&score=>100\n",
      "500\n",
      "261\n",
      "https://api.pushshift.io/reddit/search/submission/?after=1262304000&before=1577836800&subreddit=legaladvice&size=500&sort_type=score&sort=desc&stickied=false&score=<261&score=>100\n",
      "500\n",
      "244\n",
      "https://api.pushshift.io/reddit/search/submission/?after=1262304000&before=1577836800&subreddit=legaladvice&size=500&sort_type=score&sort=desc&stickied=false&score=<244&score=>100\n",
      "500\n",
      "227\n",
      "https://api.pushshift.io/reddit/search/submission/?after=1262304000&before=1577836800&subreddit=legaladvice&size=500&sort_type=score&sort=desc&stickied=false&score=<227&score=>100\n",
      "500\n",
      "213\n",
      "https://api.pushshift.io/reddit/search/submission/?after=1262304000&before=1577836800&subreddit=legaladvice&size=500&sort_type=score&sort=desc&stickied=false&score=<213&score=>100\n",
      "500\n",
      "201\n",
      "https://api.pushshift.io/reddit/search/submission/?after=1262304000&before=1577836800&subreddit=legaladvice&size=500&sort_type=score&sort=desc&stickied=false&score=<201&score=>100\n",
      "500\n",
      "191\n",
      "https://api.pushshift.io/reddit/search/submission/?after=1262304000&before=1577836800&subreddit=legaladvice&size=500&sort_type=score&sort=desc&stickied=false&score=<191&score=>100\n",
      "500\n",
      "182\n",
      "https://api.pushshift.io/reddit/search/submission/?after=1262304000&before=1577836800&subreddit=legaladvice&size=500&sort_type=score&sort=desc&stickied=false&score=<182&score=>100\n",
      "500\n",
      "173\n",
      "https://api.pushshift.io/reddit/search/submission/?after=1262304000&before=1577836800&subreddit=legaladvice&size=500&sort_type=score&sort=desc&stickied=false&score=<173&score=>100\n",
      "500\n",
      "164\n",
      "https://api.pushshift.io/reddit/search/submission/?after=1262304000&before=1577836800&subreddit=legaladvice&size=500&sort_type=score&sort=desc&stickied=false&score=<164&score=>100\n",
      "500\n",
      "156\n",
      "https://api.pushshift.io/reddit/search/submission/?after=1262304000&before=1577836800&subreddit=legaladvice&size=500&sort_type=score&sort=desc&stickied=false&score=<156&score=>100\n",
      "500\n",
      "148\n",
      "https://api.pushshift.io/reddit/search/submission/?after=1262304000&before=1577836800&subreddit=legaladvice&size=500&sort_type=score&sort=desc&stickied=false&score=<148&score=>100\n",
      "500\n",
      "142\n",
      "https://api.pushshift.io/reddit/search/submission/?after=1262304000&before=1577836800&subreddit=legaladvice&size=500&sort_type=score&sort=desc&stickied=false&score=<142&score=>100\n",
      "500\n",
      "136\n",
      "https://api.pushshift.io/reddit/search/submission/?after=1262304000&before=1577836800&subreddit=legaladvice&size=500&sort_type=score&sort=desc&stickied=false&score=<136&score=>100\n",
      "500\n",
      "130\n",
      "https://api.pushshift.io/reddit/search/submission/?after=1262304000&before=1577836800&subreddit=legaladvice&size=500&sort_type=score&sort=desc&stickied=false&score=<130&score=>100\n",
      "499\n",
      "125\n",
      "https://api.pushshift.io/reddit/search/submission/?after=1262304000&before=1577836800&subreddit=legaladvice&size=500&sort_type=score&sort=desc&stickied=false&score=<125&score=>100\n",
      "500\n",
      "120\n",
      "https://api.pushshift.io/reddit/search/submission/?after=1262304000&before=1577836800&subreddit=legaladvice&size=500&sort_type=score&sort=desc&stickied=false&score=<120&score=>100\n",
      "500\n",
      "115\n",
      "https://api.pushshift.io/reddit/search/submission/?after=1262304000&before=1577836800&subreddit=legaladvice&size=500&sort_type=score&sort=desc&stickied=false&score=<115&score=>100\n",
      "500\n",
      "110\n",
      "https://api.pushshift.io/reddit/search/submission/?after=1262304000&before=1577836800&subreddit=legaladvice&size=500&sort_type=score&sort=desc&stickied=false&score=<110&score=>100\n",
      "500\n",
      "106\n",
      "https://api.pushshift.io/reddit/search/submission/?after=1262304000&before=1577836800&subreddit=legaladvice&size=500&sort_type=score&sort=desc&stickied=false&score=<106&score=>100\n",
      "500\n",
      "102\n",
      "https://api.pushshift.io/reddit/search/submission/?after=1262304000&before=1577836800&subreddit=legaladvice&size=500&sort_type=score&sort=desc&stickied=false&score=<102&score=>100\n",
      "134\n",
      "101\n",
      "https://api.pushshift.io/reddit/search/submission/?after=1262304000&before=1577836800&subreddit=legaladvice&size=500&sort_type=score&sort=desc&stickied=false&score=<101&score=>100\n",
      "0\n"
     ]
    }
   ],
   "source": [
    "after=jan12010\n",
    "before=jan12020\n",
    "data = getPushshiftData(last_score, after, before, sub)\n",
    "# Will run until all posts have been gathered \n",
    "# from the 'after' date up until before date\n",
    "while len(data) > 0:\n",
    "    for submission in data:\n",
    "        collectSubData(submission)\n",
    "        subCount+=1\n",
    "    # Calls getPushshiftData() with the created date of the last submission\n",
    "    print(len(data))\n",
    "    print(str((data[-1]['score'])))\n",
    "    last_score = data[-1]['score']\n",
    "    data = getPushshiftData(last_score, after, before, sub)\n",
    "    \n",
    "print(len(data))"
   ]
  },
  {
   "cell_type": "code",
   "execution_count": 15,
   "metadata": {},
   "outputs": [
    {
     "data": {
      "text/plain": [
       "[('bhaof3',\n",
       "  '(Update) Neighbors child has disabilities and won\\'t stop climbing the fence, entering my house and \"freeing\" my dogs',\n",
       "  'https://www.reddit.com/r/legaladvice/comments/bhaof3/update_neighbors_child_has_disabilities_and_wont/',\n",
       "  \"Original post: https://www.reddit.com/r/legaladvice/comments/b93dx3/neighbors_child_has_disabilities_and_wont_stop/\\n\\nI'm sad about this update for the kid, I took the majority of the given advice and called the police non-emergency number and asked for an officer to come out because I had questions about an issue I'm having and briefly explained it.\\n\\nOfficer shows up, I invite him in and explain the whole situation. He isn't really sure what to do about it right now so he asked for a supervisor come to his position. Supervisor shows up and I go over the whole thing again, we go upstairs to my computer where I have all the videos clipped and saved (9 times of her entering the backyard and 4 of her entering the house through the garage). \\n\\nWe watched each one and he gets on his cellphone and goes back to his car. A few minutes later he comes back with 3 flash drives and asks me to copy the videos over to the drive and had me fill out a piece of paper stating what I put on the drive and then signed it, I repeated it all 3 times.\\n\\nAbout 45 minutes later after we have been talking and he's been on and off his cellphone the entire time, 2 CPS workers show up and review the videos again and take a complete statement from me going back to the first time it happened. This took about two hours because they wanted it to be precise and as accurate as I remember it and left out anything I wasn't 100% sure on.\\n\\nThe officers and CPS workers head next door to talk to the parents, parents apparently shut the door in their faces and said they didn't want to talk but because of my statement and the videos of her climbing over, getting stuck, having to be carried back over the times I'm at work or gone and just entering the house they had probable cause to enter the home anyways.\\n\\nAfter they were inside their house for about 10-15 minutes another cop car shows up followed by another a few minutes later. I'm in my garage so I don't know exactly what happened inside but after more officers showed up the father was put in the back of a car and the daughter was put into the CPS workers van and they left. The father was driven away about 10 minutes after that, then about an hour later the mother is also put into the back of a car and they drive away.\\n\\nI talked to the initial officer that showed up and asked for a supervisor and he tells me they found drugs (pills not in prescription bottles/not their prescriptions) and that the home was just not being taken care of inside and definitely not a safe environment for a child. Said they found drugs not secured and in areas the child had access to them.\\n\\nI haven't seen them since the day after the post, I feel bad for the kid being in that situation and me being a neighbor not even knowing and my not wanting to call the cops (I didn't think it was anything like they found, I just figured it is really tough raising a kid and add on top of that severe mental disabilities and it's even tougher). I should have called them earlier once the CPS reports I was doing over the phone didn't ever do anything.\",\n",
       "  55763,\n",
       "  4,\n",
       "  datetime.datetime(2019, 4, 25, 12, 29, 45))]"
      ]
     },
     "execution_count": 15,
     "metadata": {},
     "output_type": "execute_result"
    }
   ],
   "source": [
    "subStats[list(subStats)[0]]"
   ]
  },
  {
   "cell_type": "code",
   "execution_count": 10,
   "metadata": {},
   "outputs": [
    {
     "data": {
      "text/plain": [
       "17133"
      ]
     },
     "execution_count": 10,
     "metadata": {},
     "output_type": "execute_result"
    }
   ],
   "source": [
    "len(subStats)"
   ]
  },
  {
   "cell_type": "code",
   "execution_count": 16,
   "metadata": {},
   "outputs": [
    {
     "name": "stdout",
     "output_type": "stream",
     "text": [
      "input filename of submission file, please add .csv\n",
      "data_2010to2020_sc100_all.csv\n",
      "17133 submissions have been uploaded\n"
     ]
    }
   ],
   "source": [
    "def updateSubs_file():\n",
    "    upload_count = 0\n",
    "    location = \"./data/\"\n",
    "    print(\"input filename of submission file, please add .csv\")\n",
    "    filename = input()\n",
    "    file = location + filename\n",
    "    with open(file, 'w', newline='', encoding='utf-8') as file: \n",
    "        a = csv.writer(file, delimiter=',')\n",
    "        headers = [\"post_id\",\"title\",\"url\",\"text\",\"score\",\"num_comments\",\"created\"]\n",
    "        a.writerow(headers)\n",
    "        for sub in subStats:\n",
    "            a.writerow(subStats[sub][0])\n",
    "            upload_count+=1\n",
    "            \n",
    "        print(str(upload_count) + \" submissions have been uploaded\")\n",
    "updateSubs_file()"
   ]
  },
  {
   "cell_type": "code",
   "execution_count": 28,
   "metadata": {},
   "outputs": [],
   "source": [
    "url = 'https://api.pushshift.io/reddit/search/submission/?after='+str(jan12019)+'&before='+str(jan12020)+'&subreddit=legaladvice&sort_type=score&sort=desc&num_comments=>100&stickied=false'"
   ]
  },
  {
   "cell_type": "code",
   "execution_count": 29,
   "metadata": {},
   "outputs": [
    {
     "name": "stdout",
     "output_type": "stream",
     "text": [
      "https://api.pushshift.io/reddit/search/submission/?after=1546318800&before=1577836800&subreddit=legaladvice&sort_type=score&sort=desc&num_comments=>100&stickied=false\n"
     ]
    }
   ],
   "source": [
    "print(url)"
   ]
  },
  {
   "cell_type": "code",
   "execution_count": 24,
   "metadata": {},
   "outputs": [],
   "source": [
    "r = requests.get(url)"
   ]
  },
  {
   "cell_type": "code",
   "execution_count": 25,
   "metadata": {},
   "outputs": [],
   "source": [
    "data = json.loads(r.text)"
   ]
  },
  {
   "cell_type": "code",
   "execution_count": 26,
   "metadata": {},
   "outputs": [
    {
     "data": {
      "text/plain": [
       "25"
      ]
     },
     "execution_count": 26,
     "metadata": {},
     "output_type": "execute_result"
    }
   ],
   "source": [
    "len(data['data'])"
   ]
  },
  {
   "cell_type": "code",
   "execution_count": 36,
   "metadata": {},
   "outputs": [
    {
     "data": {
      "text/plain": [
       "6"
      ]
     },
     "execution_count": 36,
     "metadata": {},
     "output_type": "execute_result"
    }
   ],
   "source": [
    "data['data'][-1]['score']"
   ]
  }
 ],
 "metadata": {
  "kernelspec": {
   "display_name": "Python 3",
   "language": "python",
   "name": "python3"
  },
  "language_info": {
   "codemirror_mode": {
    "name": "ipython",
    "version": 3
   },
   "file_extension": ".py",
   "mimetype": "text/x-python",
   "name": "python",
   "nbconvert_exporter": "python",
   "pygments_lexer": "ipython3",
   "version": "3.7.6"
  }
 },
 "nbformat": 4,
 "nbformat_minor": 2
}
